{
 "cells": [
  {
   "cell_type": "markdown",
   "metadata": {},
   "source": [
    "# GeoNet FDSN webservice with rFDSN to do Date Select"
   ]
  },
  {
   "cell_type": "markdown",
   "metadata": {},
   "source": [
    "## Table of contents\n"
   ]
  },
  {
   "cell_type": "markdown",
   "metadata": {},
   "source": [
    "###### Set up"
   ]
  },
  {
   "cell_type": "markdown",
   "metadata": {},
   "source": [
    "######  Data select"
   ]
  },
  {
   "cell_type": "markdown",
   "metadata": {},
   "source": [
    "######  Basic stats"
   ]
  },
  {
   "cell_type": "markdown",
   "metadata": {},
   "source": [
    "######  Ploting data "
   ]
  },
  {
   "cell_type": "markdown",
   "metadata": {},
   "source": [
    "###### Saving data as csv"
   ]
  },
  {
   "cell_type": "markdown",
   "metadata": {},
   "source": [
    "## Set up"
   ]
  },
  {
   "cell_type": "markdown",
   "metadata": {},
   "source": [
    "    This tutorial assumes that you have R and basic knowledge of R. We will be using using a package called IRISSeismic (https://CRAN.R-project.org/package=IRISSeismic)."
   ]
  },
  {
   "cell_type": "markdown",
   "metadata": {},
   "source": [
    "###### Install the IRISSemismic package"
   ]
  },
  {
   "cell_type": "code",
   "execution_count": 1,
   "metadata": {},
   "outputs": [
    {
     "name": "stderr",
     "output_type": "stream",
     "text": [
      "Warning message:\n",
      "\"unable to access index for repository http://www.stats.ox.ac.uk/pub/RWin/bin/windows/contrib/3.5:\n",
      "  cannot open URL 'http://www.stats.ox.ac.uk/pub/RWin/bin/windows/contrib/3.5/PACKAGES'\""
     ]
    },
    {
     "name": "stdout",
     "output_type": "stream",
     "text": [
      "package 'IRISSeismic' successfully unpacked and MD5 sums checked\n",
      "\n",
      "The downloaded binary packages are in\n",
      "\tC:\\Users\\jlowe\\AppData\\Local\\Temp\\RtmpKGrgzC\\downloaded_packages\n"
     ]
    }
   ],
   "source": [
    "install.packages(\"IRISSeismic\")"
   ]
  },
  {
   "cell_type": "markdown",
   "metadata": {},
   "source": [
    "    Note this code might tack some time to run but you only need to run this once.\n",
    "    IRISSemismic has meny functions that may be usefull to see a list of them all with description run         library(help = \"IRISSeismic\")"
   ]
  },
  {
   "cell_type": "markdown",
   "metadata": {},
   "source": [
    "###### Import the IRISSeimic library and set your urls to the same as below"
   ]
  },
  {
   "cell_type": "code",
   "execution_count": 2,
   "metadata": {},
   "outputs": [],
   "source": [
    "library(IRISSeismic)\n",
    "#Near real time\n",
    "nrt <- new('IrisClient', site = 'https://service-nrt.geonet.org.nz')\n",
    "#Archive\n",
    "acr <- new('IrisClient', site = 'https://service.geonet.org.nz')"
   ]
  },
  {
   "cell_type": "markdown",
   "metadata": {},
   "source": [
    "    GeoNet has two FDSN servers\n",
    "    An archive server holds verified data starting 7days after collection\n",
    "    A near real-time servers holds unverified data from the last 8 days"
   ]
  },
  {
   "cell_type": "markdown",
   "metadata": {},
   "source": [
    "## Data Select"
   ]
  },
  {
   "cell_type": "markdown",
   "metadata": {},
   "source": [
    "###### Set the start and end time of the data you want to select"
   ]
  },
  {
   "cell_type": "code",
   "execution_count": 3,
   "metadata": {},
   "outputs": [],
   "source": [
    "starttime <- as.POSIXct(\"2016-11-13 11:00:00.000\",tz=\"GMT\")\n",
    "endtime <- starttime + 900"
   ]
  },
  {
   "cell_type": "markdown",
   "metadata": {},
   "source": [
    "    Note that time must be in UTC (Universtal Time Coordinated) which is 13 or 12 hours behind nzt(New Zealand Time) (depending on daylight savings time).\n",
    "    In this case we are looking at the 2016 Kaikoura earthqake wich happend just after midnight on 14th of    Novermber. \n",
    "    There are online converters such as https://savvytime.com/converter/utc-to-nzst.\n",
    "    You can add to times made in this way. You add to the time in number of seconds as done for endtime in above exmple where we are looking from 11am UTC to 11.15am UCT"
   ]
  },
  {
   "cell_type": "markdown",
   "metadata": {},
   "source": [
    "###### Get data from servers by trying both nrt and arc severs"
   ]
  },
  {
   "cell_type": "code",
   "execution_count": 4,
   "metadata": {
    "scrolled": false
   },
   "outputs": [],
   "source": [
    "try(arc_data <- getDataselect(acr,\"NZ\", \"THZ\",\"*\", \"HHE\",starttime ,endtime, ignoreEpoch=TRUE))\n",
    "try(nrt_data <- getDataselect(nrt,\"NZ\", \"THZ\",\"*\", \"HHE\",starttime ,endtime, ignoreEpoch=TRUE))"
   ]
  },
  {
   "cell_type": "markdown",
   "metadata": {},
   "source": [
    "    The parameters are in the order network, station, location, channel, starttime, and endtime.\n",
    "    The * say it will look for data with any location code.\n",
    "    This code may take some time to run. Time taken to run depends on the size of data you have requested"
   ]
  },
  {
   "cell_type": "markdown",
   "metadata": {},
   "source": [
    "###### Merge the data from the 2 servers"
   ]
  },
  {
   "cell_type": "code",
   "execution_count": 5,
   "metadata": {},
   "outputs": [],
   "source": [
    "try(st <- arc_data)\n",
    "try(st <- nrt_data)\n",
    "try(tr <- nrt_data@traces[[1]])\n",
    "try(acr_data@traces[[2]] <- tr)\n",
    "try(st <- mergeTraces(arc_data))"
   ]
  },
  {
   "cell_type": "markdown",
   "metadata": {},
   "source": [
    "    If the data is only from one server it will just rename it st\n",
    "    If it come from both it will merge them and renmae it st"
   ]
  },
  {
   "cell_type": "markdown",
   "metadata": {},
   "source": [
    "## Basic stats"
   ]
  },
  {
   "cell_type": "markdown",
   "metadata": {},
   "source": [
    "###### Cheak basic things about the sensor"
   ]
  },
  {
   "cell_type": "code",
   "execution_count": 6,
   "metadata": {},
   "outputs": [
    {
     "name": "stdout",
     "output_type": "stream",
     "text": [
      "[1] \"stats:\"\n"
     ]
    },
    {
     "data": {
      "text/plain": [
       "Seismic Trace TraceHeader \n",
       " Network:        NZ \n",
       " Station:        THZ \n",
       " Location:       10 \n",
       " Channel:        HHE \n",
       " Quality:        D \n",
       " calib:          1 \n",
       " npts:           90314 \n",
       " sampling rate:  100 \n",
       " delta:          0.01 \n",
       " starttime:      2016-11-13 10:59:58 \n",
       " endtime:        2016-11-13 11:15:01 \n",
       " latitude:       -41.76247 \n",
       " longitude:      172.9052 \n",
       " elevation:      747 \n",
       " depth:          0 \n",
       " azimuth:        90 \n",
       " dip:            0 \n",
       " processing:      "
      ]
     },
     "metadata": {},
     "output_type": "display_data"
    },
    {
     "name": "stdout",
     "output_type": "stream",
     "text": [
      "[1] \"Sensor type:\"\n"
     ]
    },
    {
     "data": {
      "text/html": [
       "'Broadband Seismometer'"
      ],
      "text/latex": [
       "'Broadband Seismometer'"
      ],
      "text/markdown": [
       "'Broadband Seismometer'"
      ],
      "text/plain": [
       "[1] \"Broadband Seismometer\""
      ]
     },
     "metadata": {},
     "output_type": "display_data"
    },
    {
     "name": "stdout",
     "output_type": "stream",
     "text": [
      "[1] \"Instrument Sensitivity:\"\n"
     ]
    },
    {
     "data": {
      "text/html": [
       "838860800"
      ],
      "text/latex": [
       "838860800"
      ],
      "text/markdown": [
       "838860800"
      ],
      "text/plain": [
       "[1] 838860800"
      ]
     },
     "metadata": {},
     "output_type": "display_data"
    },
    {
     "name": "stdout",
     "output_type": "stream",
     "text": [
      "[1] \"Sensitivity Frequency:\"\n"
     ]
    },
    {
     "data": {
      "text/html": [
       "1"
      ],
      "text/latex": [
       "1"
      ],
      "text/markdown": [
       "1"
      ],
      "text/plain": [
       "[1] 1"
      ]
     },
     "metadata": {},
     "output_type": "display_data"
    },
    {
     "name": "stdout",
     "output_type": "stream",
     "text": [
      "[1] \"Input Units:\"\n"
     ]
    },
    {
     "data": {
      "text/html": [
       "'m/s'"
      ],
      "text/latex": [
       "'m/s'"
      ],
      "text/markdown": [
       "'m/s'"
      ],
      "text/plain": [
       "[1] \"m/s\""
      ]
     },
     "metadata": {},
     "output_type": "display_data"
    }
   ],
   "source": [
    "tr <- st@traces[[1]]#tack the trace out of the stream. in this case we only have one\n",
    "print(\"stats:\")\n",
    "slot(tr, \"stats\")\n",
    "print(\"Sensor type:\")\n",
    "slot(tr,\"Sensor\")\n",
    "print(\"Instrument Sensitivity:\")\n",
    "slot(tr,\"InstrumentSensitivity\")\n",
    "print(\"Sensitivity Frequency:\")\n",
    "slot(tr,\"SensitivityFrequency\")\n",
    "print(\"Input Units:\")\n",
    "slot(tr,\"InputUnits\")"
   ]
  },
  {
   "cell_type": "markdown",
   "metadata": {},
   "source": [
    "    Due to the way IRISSeimsimic works each getDataselect call will only have one trace in it. \n",
    "    The station will need to be split into its trace to get this data.\n",
    "    You can just run the code tr but this will also output the waveform data in the trace.\n",
    "    "
   ]
  },
  {
   "cell_type": "markdown",
   "metadata": {},
   "source": [
    "###### Cheek if the data has gaps. "
   ]
  },
  {
   "cell_type": "code",
   "execution_count": 7,
   "metadata": {},
   "outputs": [
    {
     "data": {
      "text/html": [
       "<dl>\n",
       "\t<dt>$gaps</dt>\n",
       "\t\t<dd><ol class=list-inline>\n",
       "\t<li>0</li>\n",
       "\t<li>0</li>\n",
       "</ol>\n",
       "</dd>\n",
       "\t<dt>$nsamples</dt>\n",
       "\t\t<dd><ol class=list-inline>\n",
       "\t<li>0</li>\n",
       "\t<li>0</li>\n",
       "</ol>\n",
       "</dd>\n",
       "</dl>\n"
      ],
      "text/latex": [
       "\\begin{description}\n",
       "\\item[\\$gaps] \\begin{enumerate*}\n",
       "\\item 0\n",
       "\\item 0\n",
       "\\end{enumerate*}\n",
       "\n",
       "\\item[\\$nsamples] \\begin{enumerate*}\n",
       "\\item 0\n",
       "\\item 0\n",
       "\\end{enumerate*}\n",
       "\n",
       "\\end{description}\n"
      ],
      "text/markdown": [
       "$gaps\n",
       ":   1. 0\n",
       "2. 0\n",
       "\n",
       "\n",
       "\n",
       "$nsamples\n",
       ":   1. 0\n",
       "2. 0\n",
       "\n",
       "\n",
       "\n",
       "\n",
       "\n"
      ],
      "text/plain": [
       "$gaps\n",
       "[1] 0 0\n",
       "\n",
       "$nsamples\n",
       "[1] 0 0\n"
      ]
     },
     "metadata": {},
     "output_type": "display_data"
    }
   ],
   "source": [
    "getGaps(st)"
   ]
  },
  {
   "cell_type": "markdown",
   "metadata": {},
   "source": [
    "    This data has no gaps.\n",
    "    If the data dose then it will say how meny gaps there are and what size (in samples) they are."
   ]
  },
  {
   "cell_type": "markdown",
   "metadata": {},
   "source": [
    "###### Print out some basic stats"
   ]
  },
  {
   "cell_type": "code",
   "execution_count": 8,
   "metadata": {},
   "outputs": [
    {
     "name": "stdout",
     "output_type": "stream",
     "text": [
      "[1] \"max data point:\"\n"
     ]
    },
    {
     "data": {
      "text/html": [
       "8708872"
      ],
      "text/latex": [
       "8708872"
      ],
      "text/markdown": [
       "8708872"
      ],
      "text/plain": [
       "[1] 8708872"
      ]
     },
     "metadata": {},
     "output_type": "display_data"
    },
    {
     "name": "stdout",
     "output_type": "stream",
     "text": [
      "[1] \"mean of data:\"\n"
     ]
    },
    {
     "data": {
      "text/html": [
       "6000.29673140376"
      ],
      "text/latex": [
       "6000.29673140376"
      ],
      "text/markdown": [
       "6000.29673140376"
      ],
      "text/plain": [
       "[1] 6000.297"
      ]
     },
     "metadata": {},
     "output_type": "display_data"
    },
    {
     "name": "stdout",
     "output_type": "stream",
     "text": [
      "[1] \"standard deviation of data:\"\n"
     ]
    },
    {
     "data": {
      "text/html": [
       "2395065.1460273"
      ],
      "text/latex": [
       "2395065.1460273"
      ],
      "text/markdown": [
       "2395065.1460273"
      ],
      "text/plain": [
       "[1] 2395065"
      ]
     },
     "metadata": {},
     "output_type": "display_data"
    },
    {
     "name": "stdout",
     "output_type": "stream",
     "text": [
      "[1] \"root mean square of data:\"\n"
     ]
    },
    {
     "data": {
      "text/html": [
       "2395059.40256097"
      ],
      "text/latex": [
       "2395059.40256097"
      ],
      "text/markdown": [
       "2395059.40256097"
      ],
      "text/plain": [
       "[1] 2395059"
      ]
     },
     "metadata": {},
     "output_type": "display_data"
    },
    {
     "name": "stdout",
     "output_type": "stream",
     "text": [
      "[1] \"root mean square variance of data:\"\n"
     ]
    },
    {
     "data": {
      "text/html": [
       "2395051.88633458"
      ],
      "text/latex": [
       "2395051.88633458"
      ],
      "text/markdown": [
       "2395051.88633458"
      ],
      "text/plain": [
       "[1] 2395052"
      ]
     },
     "metadata": {},
     "output_type": "display_data"
    }
   ],
   "source": [
    "print(\"max data point:\")\n",
    "max(st)\n",
    "print(\"mean of data:\")\n",
    "mean(st)\n",
    "print(\"standard deviation of data:\")\n",
    "sd(st)\n",
    "print(\"root mean square of data:\")\n",
    "rms(st)\n",
    "print(\"root mean square variance of data:\")\n",
    "rmsVariance(st)"
   ]
  },
  {
   "cell_type": "markdown",
   "metadata": {},
   "source": [
    "    Any of normal stats fuctions should work on this data as expected.\n",
    "    To find out what these are are there description run library(help = \"stats\")"
   ]
  },
  {
   "cell_type": "markdown",
   "metadata": {},
   "source": [
    "## Ploting data"
   ]
  },
  {
   "cell_type": "markdown",
   "metadata": {},
   "source": [
    "###### Plot the data "
   ]
  },
  {
   "cell_type": "code",
   "execution_count": 9,
   "metadata": {},
   "outputs": [
    {
     "data": {
      "image/png": "[encoded data removed]",
      "text/plain": [
       "Plot with title \"Seismic Trace for  NZ.THZ.10.HHE\""
      ]
     },
     "metadata": {},
     "output_type": "display_data"
    }
   ],
   "source": [
    "plot(st, col  = \"red\")"
   ]
  },
  {
   "cell_type": "markdown",
   "metadata": {},
   "source": [
    "    Most parameter that you can give the plot fuction in R nomraly should work on this data set\n",
    "    To find out what these are are there description go to https://www.rdocumentation.org/packages/graphics/versions/3.5.1/topics/plot\n",
    "    Note that time is shown in minits on the x axis Where the point x=00:00 is 2016-11-13 11:00:00.000\n",
    "    For data sets over longer time periods Time may be shown in hours or even days.\n",
    "    If you right click on this plot in the notbook \n",
    "    "
   ]
  },
  {
   "cell_type": "markdown",
   "metadata": {},
   "source": [
    "###### Slice the data to look at only earthquake"
   ]
  },
  {
   "cell_type": "code",
   "execution_count": 10,
   "metadata": {},
   "outputs": [],
   "source": [
    "newstart <- as.POSIXct(\"2016-11-13 11:03:00.000\",tz=\"GMT\")\n",
    "st_slice <- slice(st, newstart, endtime)"
   ]
  },
  {
   "cell_type": "markdown",
   "metadata": {},
   "source": [
    "    The earthquake got to this station at about 11.03am UCT as seen in above graph so we don't need to look  at data before then\n",
    "    The parameters of slice are in the order data, start time, end time \n",
    "    Note that time input must be in UTC. "
   ]
  },
  {
   "cell_type": "markdown",
   "metadata": {},
   "source": [
    "###### Plot this slice"
   ]
  },
  {
   "cell_type": "code",
   "execution_count": 11,
   "metadata": {},
   "outputs": [
    {
     "data": {
      "image/png": "[encoded data removed]",
      "text/plain": [
       "Plot with title \"Seismic Trace for  NZ.THZ.10.HHE\""
      ]
     },
     "metadata": {},
     "output_type": "display_data"
    }
   ],
   "source": [
    "plot(st_slice)"
   ]
  },
  {
   "cell_type": "markdown",
   "metadata": {},
   "source": [
    "    This plot should have about 3*60*10 less points above plot\n",
    "    All things that can be done for plot(st) can be done on this plot"
   ]
  },
  {
   "cell_type": "markdown",
   "metadata": {},
   "source": [
    "## Saving data as csv"
   ]
  },
  {
   "cell_type": "code",
   "execution_count": 12,
   "metadata": {},
   "outputs": [],
   "source": [
    "tr <- st@traces[[1]]#tack the trace out of the stream. in this case we only have one\n",
    "raw_data <- slot(tr,\"data\")\n",
    "save(raw_data, file = \"raw_data.csv\", ascii = TRUE)"
   ]
  },
  {
   "cell_type": "markdown",
   "metadata": {},
   "source": [
    "    This code gaps the trace from st, then gets the waveform data from the trace, and finaly saves it as the file raw_data.csv\n",
    "    The file will be save in the same folder as this code is run from. "
   ]
  },
  {
   "cell_type": "markdown",
   "metadata": {},
   "source": [
    "IRISSeismic has alot of fuction that could be usefull. Documentation of them with exampls can be found at https://cran.r-project.org/web/packages/IRISSeismic/IRISSeismic.pdf"
   ]
  }
 ],
 "metadata": {
  "kernelspec": {
   "display_name": "R",
   "language": "R",
   "name": "ir"
  },
  "language_info": {
   "codemirror_mode": "r",
   "file_extension": ".r",
   "mimetype": "text/x-r-source",
   "name": "R",
   "pygments_lexer": "r",
   "version": "3.5.1"
  }
 },
 "nbformat": 4,
 "nbformat_minor": 2
}
