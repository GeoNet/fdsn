{
 "cells": [
  {
   "cell_type": "markdown",
   "metadata": {},
   "source": [
    "# GeoNet FDSN webservice with rFDSN to do Date Select"
   ]
  },
  {
   "cell_type": "markdown",
   "metadata": {},
   "source": [
    "This tutorial assumes that you have R and basic knolage of R. We will be using using a package called IRISSeismic (https://CRAN.R-project.org/package=IRISSeismic) if you have not all realy used this you will need to run the code below. Note this code might tack some time to run but you only need to run this once."
   ]
  },
  {
   "cell_type": "code",
   "execution_count": 1,
   "metadata": {},
   "outputs": [
    {
     "name": "stderr",
     "output_type": "stream",
     "text": [
      "Warning message:\n",
      "\"unable to access index for repository http://www.stats.ox.ac.uk/pub/RWin/bin/windows/contrib/3.5:\n",
      "  cannot open URL 'http://www.stats.ox.ac.uk/pub/RWin/bin/windows/contrib/3.5/PACKAGES'\""
     ]
    },
    {
     "name": "stdout",
     "output_type": "stream",
     "text": [
      "package 'IRISSeismic' successfully unpacked and MD5 sums checked\n",
      "\n",
      "The downloaded binary packages are in\n",
      "\tC:\\Users\\jlowe\\AppData\\Local\\Temp\\Rtmp2Jdrif\\downloaded_packages\n"
     ]
    }
   ],
   "source": [
    "install.packages(\"IRISSeismic\")"
   ]
  },
  {
   "cell_type": "markdown",
   "metadata": {},
   "source": [
    "###### GeoNet has two FDSN wave servers\n",
    "    An archive server holds verified data starting 7days after collection\n",
    "    A near real-time servers holds unverified data from the last 8 days"
   ]
  },
  {
   "cell_type": "markdown",
   "metadata": {},
   "source": [
    "Frist inport your library and set your urls"
   ]
  },
  {
   "cell_type": "code",
   "execution_count": 2,
   "metadata": {},
   "outputs": [],
   "source": [
    "library(IRISSeismic)\n",
    "#Near real time\n",
    "nrt <- new('IrisClient', site = 'https://service-nrt.geonet.org.nz')\n",
    "#Archive\n",
    "acr <- new('IrisClient', site = 'https://service.geonet.org.nz')"
   ]
  },
  {
   "cell_type": "markdown",
   "metadata": {},
   "source": [
    "Then set your paramters where the start and end time is in UTC (Universtal Time Coordinated) which is 13 or 12 hours behind nzt(New Zealand Time) (depending on daylight savings time). There are online converters such as https://savvytime.com/converter/utc-to-nzst. Put the UTC into the code."
   ]
  },
  {
   "cell_type": "code",
   "execution_count": 3,
   "metadata": {},
   "outputs": [],
   "source": [
    "starttime <- as.POSIXct(\"2016-11-13 11:02:30.000\",tz=\"GMT\")\n",
    "endtime <- starttime + 800"
   ]
  },
  {
   "cell_type": "markdown",
   "metadata": {},
   "source": [
    "I want to know what station there are to get data from in all of the archive so I know where to start looking."
   ]
  },
  {
   "cell_type": "code",
   "execution_count": 4,
   "metadata": {},
   "outputs": [
    {
     "data": {
      "text/html": [
       "<ol class=list-inline>\n",
       "\t<li>519</li>\n",
       "\t<li>8</li>\n",
       "</ol>\n"
      ],
      "text/latex": [
       "\\begin{enumerate*}\n",
       "\\item 519\n",
       "\\item 8\n",
       "\\end{enumerate*}\n"
      ],
      "text/markdown": [
       "1. 519\n",
       "2. 8\n",
       "\n",
       "\n"
      ],
      "text/plain": [
       "[1] 519   8"
      ]
     },
     "metadata": {},
     "output_type": "display_data"
    }
   ],
   "source": [
    "all_station <- getStation(acr,\"NZ\", \"*\",\"*\", \"*\",starttime ,endtime)\n",
    "dim(all_station)"
   ]
  },
  {
   "cell_type": "markdown",
   "metadata": {},
   "source": [
    "This says there are 519 stastion on the network. Too many know where to strat, but I know the place I want to look at in latitude and longitude coordinates. With this and radius of how far I'm willing to look I can find some station to get data for."
   ]
  },
  {
   "cell_type": "code",
   "execution_count": 5,
   "metadata": {},
   "outputs": [
    {
     "data": {
      "text/html": [
       "<table>\n",
       "<thead><tr><th scope=col>network</th><th scope=col>station</th><th scope=col>latitude</th><th scope=col>longitude</th><th scope=col>elevation</th><th scope=col>sitename</th><th scope=col>starttime</th><th scope=col>endtime</th></tr></thead>\n",
       "<tbody>\n",
       "\t<tr><td>NZ               </td><td>KLDS             </td><td>-41.67309        </td><td>172.8750         </td><td>494              </td><td>Kikiwa Line Depot</td><td>2002-02-27       </td><td>NA               </td></tr>\n",
       "\t<tr><td>NZ               </td><td>THZ              </td><td>-41.76247        </td><td>172.9052         </td><td>747              </td><td>Top House        </td><td>1989-12-02       </td><td>NA               </td></tr>\n",
       "</tbody>\n",
       "</table>\n"
      ],
      "text/latex": [
       "\\begin{tabular}{r|llllllll}\n",
       " network & station & latitude & longitude & elevation & sitename & starttime & endtime\\\\\n",
       "\\hline\n",
       "\t NZ                & KLDS              & -41.67309         & 172.8750          & 494               & Kikiwa Line Depot & 2002-02-27        & NA               \\\\\n",
       "\t NZ                & THZ               & -41.76247         & 172.9052          & 747               & Top House         & 1989-12-02        & NA               \\\\\n",
       "\\end{tabular}\n"
      ],
      "text/markdown": [
       "\n",
       "network | station | latitude | longitude | elevation | sitename | starttime | endtime | \n",
       "|---|---|\n",
       "| NZ                | KLDS              | -41.67309         | 172.8750          | 494               | Kikiwa Line Depot | 2002-02-27        | NA                | \n",
       "| NZ                | THZ               | -41.76247         | 172.9052          | 747               | Top House         | 1989-12-02        | NA                | \n",
       "\n",
       "\n"
      ],
      "text/plain": [
       "  network station latitude  longitude elevation sitename          starttime \n",
       "1 NZ      KLDS    -41.67309 172.8750  494       Kikiwa Line Depot 2002-02-27\n",
       "2 NZ      THZ     -41.76247 172.9052  747       Top House         1989-12-02\n",
       "  endtime\n",
       "1 <NA>   \n",
       "2 <NA>   "
      ]
     },
     "metadata": {},
     "output_type": "display_data"
    }
   ],
   "source": [
    "getStation(acr,\"NZ\", \"*\",\"*\", \"*\",starttime ,endtime, latitude= -41.7, longitude=172.9,maxradius =0.1)"
   ]
  },
  {
   "cell_type": "markdown",
   "metadata": {},
   "source": [
    "We put the data into the quary in the form network, station, location, channel, starttime, and endtime. In the example belowe we are using the Top House station I also know I want to look at the east west channel. When I don't know the name I can put in (?)"
   ]
  },
  {
   "cell_type": "markdown",
   "metadata": {},
   "source": [
    "Then get this data from the server by trying both the nrt server and the acr server, this may take some time if you are trying to got a lot of data."
   ]
  },
  {
   "cell_type": "code",
   "execution_count": 6,
   "metadata": {
    "scrolled": false
   },
   "outputs": [],
   "source": [
    "try(arc_data <- getDataselect(acr,\"NZ\", \"THZ\",\"*\", \"HHE\",starttime ,endtime, ignoreEpoch=TRUE))\n",
    "try(nrt_data <- getDataselect(nrt,\"NZ\", \"THZ\",\"*\", \"HHE\",starttime ,endtime, ignoreEpoch=TRUE))"
   ]
  },
  {
   "cell_type": "markdown",
   "metadata": {},
   "source": [
    "We can then merge the data for the 2 servers"
   ]
  },
  {
   "cell_type": "code",
   "execution_count": 7,
   "metadata": {},
   "outputs": [],
   "source": [
    "try(st <- arc_data)\n",
    "try(st <- nrt_data)\n",
    "try(st <- mergeUpDownTimes(arc_data,nrt_data, fillZero))"
   ]
  },
  {
   "cell_type": "markdown",
   "metadata": {},
   "source": [
    "I want to find out so more info about my data by looking at the metadata data of my miniSEED, I can do this by printing out my data"
   ]
  },
  {
   "cell_type": "code",
   "execution_count": 8,
   "metadata": {},
   "outputs": [
    {
     "name": "stdout",
     "output_type": "stream",
     "text": [
      "[1] \"stats:\"\n"
     ]
    },
    {
     "data": {
      "text/plain": [
       "Seismic Trace TraceHeader \n",
       " Network:        NZ \n",
       " Station:        THZ \n",
       " Location:       10 \n",
       " Channel:        HHE \n",
       " Quality:        D \n",
       " calib:          1 \n",
       " npts:           80575 \n",
       " sampling rate:  100 \n",
       " delta:          0.01 \n",
       " starttime:      2016-11-13 11:02:25 \n",
       " endtime:        2016-11-13 11:15:51 \n",
       " latitude:       -41.76247 \n",
       " longitude:      172.9052 \n",
       " elevation:      747 \n",
       " depth:          0 \n",
       " azimuth:        90 \n",
       " dip:            0 \n",
       " processing:      "
      ]
     },
     "metadata": {},
     "output_type": "display_data"
    },
    {
     "name": "stdout",
     "output_type": "stream",
     "text": [
      "[1] \"Sensor type:\"\n"
     ]
    },
    {
     "data": {
      "text/html": [
       "'Broadband Seismometer'"
      ],
      "text/latex": [
       "'Broadband Seismometer'"
      ],
      "text/markdown": [
       "'Broadband Seismometer'"
      ],
      "text/plain": [
       "[1] \"Broadband Seismometer\""
      ]
     },
     "metadata": {},
     "output_type": "display_data"
    },
    {
     "name": "stdout",
     "output_type": "stream",
     "text": [
      "[1] \"Instrument Sensitivity:\"\n"
     ]
    },
    {
     "data": {
      "text/html": [
       "838860800"
      ],
      "text/latex": [
       "838860800"
      ],
      "text/markdown": [
       "838860800"
      ],
      "text/plain": [
       "[1] 838860800"
      ]
     },
     "metadata": {},
     "output_type": "display_data"
    },
    {
     "name": "stdout",
     "output_type": "stream",
     "text": [
      "[1] \"Sensitivity Frequency:\"\n"
     ]
    },
    {
     "data": {
      "text/html": [
       "1"
      ],
      "text/latex": [
       "1"
      ],
      "text/markdown": [
       "1"
      ],
      "text/plain": [
       "[1] 1"
      ]
     },
     "metadata": {},
     "output_type": "display_data"
    },
    {
     "name": "stdout",
     "output_type": "stream",
     "text": [
      "[1] \"Input Units:\"\n"
     ]
    },
    {
     "data": {
      "text/html": [
       "'m/s'"
      ],
      "text/latex": [
       "'m/s'"
      ],
      "text/markdown": [
       "'m/s'"
      ],
      "text/plain": [
       "[1] \"m/s\""
      ]
     },
     "metadata": {},
     "output_type": "display_data"
    }
   ],
   "source": [
    "tr <- st@traces[[1]]#tack the trace out of the stream. in this case we only have one\n",
    "print(\"stats:\")\n",
    "slot(tr, \"stats\")\n",
    "print(\"Sensor type:\")\n",
    "slot(tr,\"Sensor\")\n",
    "print(\"Instrument Sensitivity:\")\n",
    "slot(tr,\"InstrumentSensitivity\")\n",
    "print(\"Sensitivity Frequency:\")\n",
    "slot(tr,\"SensitivityFrequency\")\n",
    "print(\"Input Units:\")\n",
    "slot(tr,\"InputUnits\")"
   ]
  },
  {
   "cell_type": "markdown",
   "metadata": {},
   "source": [
    "I want to cheek if the data I have is complet and has not gaps. "
   ]
  },
  {
   "cell_type": "code",
   "execution_count": 9,
   "metadata": {},
   "outputs": [
    {
     "data": {
      "text/html": [
       "<dl>\n",
       "\t<dt>$gaps</dt>\n",
       "\t\t<dd><ol class=list-inline>\n",
       "\t<li>0</li>\n",
       "\t<li>0</li>\n",
       "</ol>\n",
       "</dd>\n",
       "\t<dt>$nsamples</dt>\n",
       "\t\t<dd><ol class=list-inline>\n",
       "\t<li>0</li>\n",
       "\t<li>0</li>\n",
       "</ol>\n",
       "</dd>\n",
       "</dl>\n"
      ],
      "text/latex": [
       "\\begin{description}\n",
       "\\item[\\$gaps] \\begin{enumerate*}\n",
       "\\item 0\n",
       "\\item 0\n",
       "\\end{enumerate*}\n",
       "\n",
       "\\item[\\$nsamples] \\begin{enumerate*}\n",
       "\\item 0\n",
       "\\item 0\n",
       "\\end{enumerate*}\n",
       "\n",
       "\\end{description}\n"
      ],
      "text/markdown": [
       "$gaps\n",
       ":   1. 0\n",
       "2. 0\n",
       "\n",
       "\n",
       "\n",
       "$nsamples\n",
       ":   1. 0\n",
       "2. 0\n",
       "\n",
       "\n",
       "\n",
       "\n",
       "\n"
      ],
      "text/plain": [
       "$gaps\n",
       "[1] 0 0\n",
       "\n",
       "$nsamples\n",
       "[1] 0 0\n"
      ]
     },
     "metadata": {},
     "output_type": "display_data"
    }
   ],
   "source": [
    "getGaps(st)"
   ]
  },
  {
   "cell_type": "markdown",
   "metadata": {},
   "source": [
    "This data has no gaps."
   ]
  },
  {
   "cell_type": "markdown",
   "metadata": {},
   "source": [
    "I also what to print out some basic stats"
   ]
  },
  {
   "cell_type": "code",
   "execution_count": 10,
   "metadata": {},
   "outputs": [
    {
     "name": "stdout",
     "output_type": "stream",
     "text": [
      "[1] \"number of smaple in data:\"\n"
     ]
    },
    {
     "data": {
      "text/html": [
       "80575"
      ],
      "text/latex": [
       "80575"
      ],
      "text/markdown": [
       "80575"
      ],
      "text/plain": [
       "[1] 80575"
      ]
     },
     "metadata": {},
     "output_type": "display_data"
    },
    {
     "name": "stdout",
     "output_type": "stream",
     "text": [
      "[1] \"max data point:\"\n"
     ]
    },
    {
     "data": {
      "text/html": [
       "8708872"
      ],
      "text/latex": [
       "8708872"
      ],
      "text/markdown": [
       "8708872"
      ],
      "text/plain": [
       "[1] 8708872"
      ]
     },
     "metadata": {},
     "output_type": "display_data"
    },
    {
     "name": "stdout",
     "output_type": "stream",
     "text": [
      "[1] \"mean of data:\"\n"
     ]
    },
    {
     "data": {
      "text/html": [
       "8616.31017064846"
      ],
      "text/latex": [
       "8616.31017064846"
      ],
      "text/markdown": [
       "8616.31017064846"
      ],
      "text/plain": [
       "[1] 8616.31"
      ]
     },
     "metadata": {},
     "output_type": "display_data"
    },
    {
     "name": "stdout",
     "output_type": "stream",
     "text": [
      "[1] \"standard deviation of data:\"\n"
     ]
    },
    {
     "data": {
      "text/html": [
       "2537937.74376041"
      ],
      "text/latex": [
       "2537937.74376041"
      ],
      "text/markdown": [
       "2537937.74376041"
      ],
      "text/plain": [
       "[1] 2537938"
      ]
     },
     "metadata": {},
     "output_type": "display_data"
    },
    {
     "name": "stdout",
     "output_type": "stream",
     "text": [
      "[1] \"root mean square of data:\"\n"
     ]
    },
    {
     "data": {
      "text/html": [
       "2537936.62105068"
      ],
      "text/latex": [
       "2537936.62105068"
      ],
      "text/markdown": [
       "2537936.62105068"
      ],
      "text/plain": [
       "[1] 2537937"
      ]
     },
     "metadata": {},
     "output_type": "display_data"
    },
    {
     "name": "stdout",
     "output_type": "stream",
     "text": [
      "[1] \"root mean square variance of data:\"\n"
     ]
    },
    {
     "data": {
      "text/html": [
       "2537921.99479597"
      ],
      "text/latex": [
       "2537921.99479597"
      ],
      "text/markdown": [
       "2537921.99479597"
      ],
      "text/plain": [
       "[1] 2537922"
      ]
     },
     "metadata": {},
     "output_type": "display_data"
    }
   ],
   "source": [
    "print(\"number of smaple in data:\")\n",
    "length(tr)\n",
    "print(\"max data point:\")\n",
    "max(tr)\n",
    "print(\"mean of data:\")\n",
    "mean(tr)\n",
    "print(\"standard deviation of data:\")\n",
    "sd(tr)\n",
    "print(\"root mean square of data:\")\n",
    "rms(tr)\n",
    "print(\"root mean square variance of data:\")\n",
    "rmsVariance(tr)"
   ]
  },
  {
   "cell_type": "markdown",
   "metadata": {},
   "source": [
    "We can then plot the data "
   ]
  },
  {
   "cell_type": "code",
   "execution_count": 11,
   "metadata": {},
   "outputs": [
    {
     "data": {
      "image/png": "[encoded data removed]",
      "text/plain": [
       "Plot with title \"Seismic Trace for  NZ.THZ.10.HHE\""
      ]
     },
     "metadata": {},
     "output_type": "display_data"
    }
   ],
   "source": [
    "plot(st, col  = \"blue\")"
   ]
  },
  {
   "cell_type": "markdown",
   "metadata": {},
   "source": [
    "Now that I've Seen the plot I want to see only the frist 1/2 of the data in a plot."
   ]
  },
  {
   "cell_type": "code",
   "execution_count": 12,
   "metadata": {},
   "outputs": [],
   "source": [
    "newtime <- endtime - 400\n",
    "st_slice <- slice(st, starttime, newtime)"
   ]
  },
  {
   "cell_type": "code",
   "execution_count": 13,
   "metadata": {},
   "outputs": [
    {
     "data": {
      "image/png": "[encoded data removed]",
      "text/plain": [
       "Plot with title \"Seismic Trace for  NZ.THZ.10.HHE\""
      ]
     },
     "metadata": {},
     "output_type": "display_data"
    }
   ],
   "source": [
    "plot(st_slice)"
   ]
  },
  {
   "cell_type": "markdown",
   "metadata": {},
   "source": [
    "Now I want to save my data as csv so I can deal with it in outher progams"
   ]
  },
  {
   "cell_type": "code",
   "execution_count": 14,
   "metadata": {},
   "outputs": [],
   "source": [
    "raw_data <- slot(tr,\"data\")\n",
    "save(raw_data, file = \"raw_data.csv\", ascii = TRUE)"
   ]
  },
  {
   "cell_type": "markdown",
   "metadata": {},
   "source": [
    "IRISSeismic has alot of fuction that could be usefull. Ducumation of then with exampls can be found at https://cran.r-project.org/web/packages/IRISSeismic/IRISSeismic.pdf"
   ]
  }
 ],
 "metadata": {
  "kernelspec": {
   "display_name": "R",
   "language": "R",
   "name": "ir"
  },
  "language_info": {
   "codemirror_mode": "r",
   "file_extension": ".r",
   "mimetype": "text/x-r-source",
   "name": "R",
   "pygments_lexer": "r",
   "version": "3.5.1"
  }
 },
 "nbformat": 4,
 "nbformat_minor": 2
}
