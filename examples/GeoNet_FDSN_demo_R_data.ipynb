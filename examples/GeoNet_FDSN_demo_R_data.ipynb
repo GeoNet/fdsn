{
 "cells": [
  {
   "cell_type": "markdown",
   "metadata": {},
   "source": [
    "# GeoNet FDSN webservice with rFDSN to do Date Select"
   ]
  },
  {
   "cell_type": "markdown",
   "metadata": {},
   "source": [
    "GeoNet has tow FDSN wave servers\n",
    "    An archive server holds verified data starting 7days after collection\n",
    "    A near real-time servers holds unverified data from the last 8 days\n",
    "We  will be usign the the librarys rFDNS documentation for which can be found at athttps://CRAN.R-project.org/package=rFDSN."
   ]
  },
  {
   "cell_type": "markdown",
   "metadata": {},
   "source": [
    "Frist inport your librarys and set your urls"
   ]
  },
  {
   "cell_type": "code",
   "execution_count": 1,
   "metadata": {},
   "outputs": [
    {
     "name": "stderr",
     "output_type": "stream",
     "text": [
      "Loading required package: XML\n"
     ]
    }
   ],
   "source": [
    "library(rFDSN)\n",
    "#Near real time\n",
    "nrt_dataselect <- 'https://service-nrt.geonet.org.nz/fdsnws/dataselect/1/'\n",
    "#Archive\n",
    "acr_dataselect <- 'https://service.geonet.org.nz/fdsnws/dataselect/1/'"
   ]
  },
  {
   "cell_type": "markdown",
   "metadata": {},
   "source": [
    "Then set your paramters"
   ]
  },
  {
   "cell_type": "code",
   "execution_count": 2,
   "metadata": {},
   "outputs": [],
   "source": [
    "par <- list(\n",
    "    name = c(\n",
    "    \"network\",\n",
    "    \"station\",\n",
    "    \"location\",\n",
    "    \"channel\",\n",
    "    \"starttime\",\n",
    "    \"endtime\"),\n",
    "    value = c(\n",
    "    \"NZ\",   \n",
    "    \"TDHS\",#change to the code of the station you want to look at \n",
    "    \"20\",#change to the location code of this station\n",
    "    \"?N?\",#change to the channel code of this station \n",
    "    \"2018-11-11T16:37:00.000\",#change to the start of the time you want to look at \n",
    "    \"2018-11-11T16:38:00.000\"))#change to the end of the time you want to look at "
   ]
  },
  {
   "cell_type": "markdown",
   "metadata": {},
   "source": [
    "Then get this data from the server by trying both the nrt server and the acr server and save this data as a miniseed file"
   ]
  },
  {
   "cell_type": "code",
   "execution_count": 3,
   "metadata": {
    "scrolled": false
   },
   "outputs": [
    {
     "data": {
      "text/html": [
       "'./TDHS.mseed'"
      ],
      "text/latex": [
       "'./TDHS.mseed'"
      ],
      "text/markdown": [
       "'./TDHS.mseed'"
      ],
      "text/plain": [
       "[1] \"./TDHS.mseed\""
      ]
     },
     "metadata": {},
     "output_type": "display_data"
    }
   ],
   "source": [
    "try(FDSNGetTimeSeries(nrt_dataselect,par,save.file=\"TDHS.mseed\"))\n",
    "try(FDSNGetTimeSeries(arc_dataselect,par,save.file=\"TDHS.mseed\"))\n",
    "#change TDHS to what you want the saved file to be called"
   ]
  },
  {
   "cell_type": "markdown",
   "metadata": {},
   "source": []
  }
 ],
 "metadata": {
  "kernelspec": {
   "display_name": "R",
   "language": "R",
   "name": "ir"
  },
  "language_info": {
   "codemirror_mode": "r",
   "file_extension": ".r",
   "mimetype": "text/x-r-source",
   "name": "R",
   "pygments_lexer": "r",
   "version": "3.4.4"
  }
 },
 "nbformat": 4,
 "nbformat_minor": 2
}
